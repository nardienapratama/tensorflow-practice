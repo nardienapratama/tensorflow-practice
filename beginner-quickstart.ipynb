{
 "metadata": {
  "language_info": {
   "codemirror_mode": {
    "name": "ipython",
    "version": 3
   },
   "file_extension": ".py",
   "mimetype": "text/x-python",
   "name": "python",
   "nbconvert_exporter": "python",
   "pygments_lexer": "ipython3",
   "version": "3.8.5-final"
  },
  "orig_nbformat": 2,
  "kernelspec": {
   "name": "python_defaultSpec_1597366746516",
   "display_name": "Python 3.8.5 64-bit ('tf-practice-venv': venv)"
  }
 },
 "nbformat": 4,
 "nbformat_minor": 2,
 "cells": [
  {
   "cell_type": "code",
   "execution_count": null,
   "metadata": {},
   "outputs": [],
   "source": [
    "# https://www.tensorflow.org/tutorials/quickstart/beginner"
   ]
  },
  {
   "cell_type": "code",
   "execution_count": 3,
   "metadata": {},
   "outputs": [],
   "source": [
    "import tensorflow as tf"
   ]
  },
  {
   "cell_type": "code",
   "execution_count": null,
   "metadata": {
    "tags": []
   },
   "outputs": [],
   "source": [
    "# Load and prepare the MNIST dataset. Convert the samples from integers to floating-point numbers:\n",
    "mnist = tf.keras.datasets.mnist\n",
    "\n",
    "(x_train, y_train), (x_test, y_test) = mnist.load_data()\n",
    "x_train, x_test = x_train / 255.0, x_test / 255.0"
   ]
  },
  {
   "cell_type": "code",
   "execution_count": 6,
   "metadata": {},
   "outputs": [],
   "source": [
    "# Build the tf.keras.Sequential model by stacking layers. Choose an optimizer and loss function for training:\n",
    "model = tf.keras.models.Sequential([\n",
    "    tf.keras.layers.Flatten(input_shape=(28,28)),\n",
    "    tf.keras.layers.Dense(128, activation='relu'),\n",
    "    tf.keras.layers.Dropout(0.2),\n",
    "    tf.keras.layers.Dense(10)\n",
    "])\n"
   ]
  },
  {
   "cell_type": "code",
   "execution_count": 7,
   "metadata": {},
   "outputs": [
    {
     "output_type": "execute_result",
     "data": {
      "text/plain": "array([[-0.2702417 , -0.52430946, -0.46889332,  0.08393823, -0.308553  ,\n        -0.16548282, -0.19295837,  0.4774437 , -0.09103819, -0.19356558]],\n      dtype=float32)"
     },
     "metadata": {},
     "execution_count": 7
    }
   ],
   "source": [
    "# For each example the model returns a vector of \"logits\" or \"log-odds\" scores, one for each class.\n",
    "predictions = model(x_train[:1]).numpy()\n",
    "predictions"
   ]
  },
  {
   "cell_type": "code",
   "execution_count": 8,
   "metadata": {},
   "outputs": [
    {
     "output_type": "execute_result",
     "data": {
      "text/plain": "array([[0.08649207, 0.06708664, 0.07090927, 0.12325221, 0.08324112,\n        0.0960445 , 0.09344155, 0.1826804 , 0.10346737, 0.09338482]],\n      dtype=float32)"
     },
     "metadata": {},
     "execution_count": 8
    }
   ],
   "source": [
    "# The tf.nn.softmax function converts these logits to \"probabilities\" for each class:\n",
    "\n",
    "tf.nn.softmax(predictions).numpy()"
   ]
  },
  {
   "cell_type": "code",
   "execution_count": 9,
   "metadata": {},
   "outputs": [],
   "source": [
    "# Note: It is possible to bake this tf.nn.softmax in as the activation function for the last layer of the network. While this can make the model output more directly interpretable, this approach is discouraged as it's impossible to provide an exact and numerically stable loss calculation for all models when using a softmax output."
   ]
  },
  {
   "cell_type": "code",
   "execution_count": 10,
   "metadata": {},
   "outputs": [],
   "source": [
    "# The losses.SparseCategoricalCrossentropy loss takes a vector of logits and a True index and returns a scalar loss for each example.\n",
    "loss_fn = tf.keras.losses.SparseCategoricalCrossentropy(from_logits=True)\n",
    "# This loss is equal to the negative log probability of the true class: It is zero if the model is sure of the correct class."
   ]
  },
  {
   "cell_type": "code",
   "execution_count": 11,
   "metadata": {},
   "outputs": [
    {
     "output_type": "execute_result",
     "data": {
      "text/plain": "2.3429437"
     },
     "metadata": {},
     "execution_count": 11
    }
   ],
   "source": [
    "# This untrained model gives probabilities close to random (1/10 for each class), so the initial loss should be close to -tf.log(1/10) ~= 2.3.\n",
    "loss_fn(y_train[:1], predictions).numpy()"
   ]
  },
  {
   "cell_type": "code",
   "execution_count": 12,
   "metadata": {},
   "outputs": [],
   "source": [
    "model.compile(optimizer='adam',\n",
    "                loss=loss_fn,\n",
    "                metrics=['accuracy'])"
   ]
  },
  {
   "cell_type": "code",
   "execution_count": 13,
   "metadata": {
    "tags": []
   },
   "outputs": [
    {
     "output_type": "stream",
     "name": "stdout",
     "text": "Epoch 1/5\n1875/1875 [==============================] - 2s 1ms/step - loss: 0.2930 - accuracy: 0.9145\nEpoch 2/5\n1875/1875 [==============================] - 2s 991us/step - loss: 0.1387 - accuracy: 0.9597\nEpoch 3/5\n1875/1875 [==============================] - 2s 1ms/step - loss: 0.1039 - accuracy: 0.9694\nEpoch 4/5\n1875/1875 [==============================] - 2s 1ms/step - loss: 0.0863 - accuracy: 0.9733\nEpoch 5/5\n1875/1875 [==============================] - 2s 1ms/step - loss: 0.0743 - accuracy: 0.9761\n"
    },
    {
     "output_type": "execute_result",
     "data": {
      "text/plain": "<tensorflow.python.keras.callbacks.History at 0x202e24d38b0>"
     },
     "metadata": {},
     "execution_count": 13
    }
   ],
   "source": [
    "# The Model.fit method adjusts the model parameters to minimize the loss:\n",
    "model.fit(x_train, y_train, epochs=5)"
   ]
  },
  {
   "cell_type": "code",
   "execution_count": 14,
   "metadata": {
    "tags": []
   },
   "outputs": [
    {
     "output_type": "stream",
     "name": "stdout",
     "text": "313/313 - 0s - loss: 0.0692 - accuracy: 0.9779\n"
    },
    {
     "output_type": "execute_result",
     "data": {
      "text/plain": "[0.06920642405748367, 0.9779000282287598]"
     },
     "metadata": {},
     "execution_count": 14
    }
   ],
   "source": [
    "# The Model.evaluate method checks the models performance, usually on a \"Validation-set\" or \"Test-set\".\n",
    "model.evaluate(x_test, y_test, verbose=2)"
   ]
  },
  {
   "cell_type": "code",
   "execution_count": 15,
   "metadata": {},
   "outputs": [],
   "source": [
    "# The image classifier is now trained to ~98% accuracy on this dataset. To learn more, read the TensorFlow tutorials.\n",
    "# If you want your model to return a probability, you can wrap the trained model, and attach the softmax to it:\n",
    "\n",
    "probability_model = tf.keras.Sequential([\n",
    "    model,\n",
    "    tf.keras.layers.Softmax()\n",
    "])"
   ]
  },
  {
   "cell_type": "code",
   "execution_count": 16,
   "metadata": {},
   "outputs": [
    {
     "output_type": "execute_result",
     "data": {
      "text/plain": "<tf.Tensor: shape=(5, 10), dtype=float32, numpy=\narray([[2.3954451e-07, 8.0176164e-08, 4.9203518e-06, 2.9577543e-05,\n        1.5968428e-11, 8.4330402e-08, 1.8773813e-12, 9.9995160e-01,\n        7.3628669e-08, 1.3384550e-05],\n       [8.0357374e-08, 5.1198647e-05, 9.9989939e-01, 9.9907620e-06,\n        4.7098675e-12, 1.3516946e-05, 2.0999121e-05, 9.5343851e-14,\n        4.8933985e-06, 9.3896980e-11],\n       [2.4087660e-07, 9.9951196e-01, 6.2425213e-05, 7.2347342e-07,\n        8.3099658e-06, 3.8471015e-07, 8.3642217e-06, 3.1413580e-04,\n        9.2656148e-05, 8.8369023e-07],\n       [9.9977118e-01, 7.9265194e-10, 2.2833505e-05, 3.6183295e-08,\n        1.0737485e-07, 2.1339279e-07, 2.0482769e-04, 8.4083439e-08,\n        2.3587756e-08, 5.3859941e-07],\n       [6.4784435e-06, 1.1699315e-09, 5.6926827e-05, 2.9545924e-07,\n        9.9349219e-01, 6.7092566e-07, 2.9889486e-06, 8.3923325e-05,\n        8.9371915e-06, 6.3475529e-03]], dtype=float32)>"
     },
     "metadata": {},
     "execution_count": 16
    }
   ],
   "source": [
    "probability_model(x_test[:5])"
   ]
  },
  {
   "cell_type": "code",
   "execution_count": null,
   "metadata": {},
   "outputs": [],
   "source": []
  }
 ]
}